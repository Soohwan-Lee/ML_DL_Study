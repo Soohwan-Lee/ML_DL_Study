{
 "cells": [
  {
   "cell_type": "markdown",
   "id": "63c7eb00",
   "metadata": {},
   "source": [
    "# Random Forest"
   ]
  },
  {
   "cell_type": "markdown",
   "id": "6e0d8b25",
   "metadata": {},
   "source": [
    "Boostrap Sample: 데이터 세트에서 중복을 허용하여 데이터를 샘플링하는 방식"
   ]
  },
  {
   "cell_type": "markdown",
   "id": "b64a9ff4",
   "metadata": {},
   "source": [
    "RandomForestClassifier는 기본적으로 전체 특성 개수의 제곱근만큼의 특성을 무작위 선택함. (*회귀 모델인 RandomForestRegressor는 전체 특성을 사용)"
   ]
  },
  {
   "cell_type": "code",
   "execution_count": 1,
   "id": "a9135917",
   "metadata": {},
   "outputs": [],
   "source": [
    "import numpy as np\n",
    "import pandas as pd\n",
    "from sklearn.model_selection import train_test_split\n",
    "\n",
    "wine = pd.read_csv('https://bit.ly/wine_csv_data')\n",
    "data = wine[['alcohol', 'sugar', 'pH']].to_numpy()\n",
    "target = wine['class'].to_numpy()\n",
    "\n",
    "train_input, test_input, train_target, test_target = train_test_split(data, target, test_size = 0.2, random_state=42)"
   ]
  },
  {
   "cell_type": "code",
   "execution_count": 5,
   "id": "c22ca515",
   "metadata": {},
   "outputs": [
    {
     "name": "stdout",
     "output_type": "stream",
     "text": [
      "0.9973541965122431 0.8905151032797809\n"
     ]
    }
   ],
   "source": [
    "from sklearn.model_selection import cross_validate\n",
    "from sklearn.ensemble import RandomForestClassifier\n",
    "\n",
    "rf = RandomForestClassifier(n_jobs=-1, random_state=42)\n",
    "scores = cross_validate(rf, train_input, train_target, return_train_score = True, n_jobs=-1)\n",
    "print(np.mean(scores['train_score']), np.mean(scores['test_score']))"
   ]
  },
  {
   "cell_type": "code",
   "execution_count": 9,
   "id": "bca49245",
   "metadata": {},
   "outputs": [
    {
     "name": "stdout",
     "output_type": "stream",
     "text": [
      "{'fit_time': array([0.17181778, 0.20305896, 0.20305896, 0.20305896, 0.29677773]), 'score_time': array([0.03123975, 0.03123999, 0.03123999, 0.03123999, 0.01562023]), 'test_score': array([0.88461538, 0.88942308, 0.90279115, 0.88931665, 0.88642926]), 'train_score': array([0.9971133 , 0.99663219, 0.9978355 , 0.9973545 , 0.9978355 ])}\n"
     ]
    }
   ],
   "source": [
    "print(scores)"
   ]
  },
  {
   "cell_type": "code",
   "execution_count": 6,
   "id": "cd40f16f",
   "metadata": {},
   "outputs": [
    {
     "name": "stdout",
     "output_type": "stream",
     "text": [
      "[0.23167441 0.50039841 0.26792718]\n"
     ]
    }
   ],
   "source": [
    "# random forest의 중요도는 각 decision tree의 중요도를 취합한 것임.\n",
    "rf.fit(train_input, train_target)\n",
    "print(rf.feature_importances_)"
   ]
  },
  {
   "cell_type": "code",
   "execution_count": 11,
   "id": "a49b4b10",
   "metadata": {},
   "outputs": [
    {
     "name": "stdout",
     "output_type": "stream",
     "text": [
      "0.8934000384837406\n"
     ]
    }
   ],
   "source": [
    "# 부트스트랩 샘플에 포함되지 않고 남는 샘플들을 OOB(out of bag) 샘플이라고 함.\n",
    "# 이 샘플들을 검증 세트처럼 사용할 수 있음.\n",
    "rf = RandomForestClassifier(oob_score = True, n_jobs=-1, random_state=42)\n",
    "rf.fit(train_input, train_target)\n",
    "print(rf.oob_score_)    # 교차 검증의 테스트셋 점수와 비슷한 결과를 얻을 수 있음."
   ]
  },
  {
   "cell_type": "markdown",
   "id": "f3fb2b24",
   "metadata": {},
   "source": [
    "# Extra Tree"
   ]
  },
  {
   "cell_type": "markdown",
   "id": "f4a1a4e0",
   "metadata": {},
   "source": [
    "random forest와 다르게 bootstrap 샘플을 사용하지 않음. 즉 각 결정 트리를 만들 때 전체 훈련 세트를 사용함. 대신 노드를 분할할 때 가장 좋은 분할을 찾는 것이 아니라 무작위로 분할함."
   ]
  },
  {
   "cell_type": "code",
   "execution_count": 17,
   "id": "b3d7a5de",
   "metadata": {},
   "outputs": [
    {
     "name": "stdout",
     "output_type": "stream",
     "text": [
      "0.9974503966084433 0.8887848893166506\n"
     ]
    }
   ],
   "source": [
    "from sklearn.ensemble import ExtraTreesClassifier\n",
    "\n",
    "et = ExtraTreesClassifier(n_jobs=-1, random_state = 42)\n",
    "scores = cross_validate(et,train_input, train_target, return_train_score = True, n_jobs=-1)\n",
    "print(np.mean(scores['train_score']), np.mean(scores['test_score']))"
   ]
  },
  {
   "cell_type": "markdown",
   "id": "89990e0a",
   "metadata": {},
   "source": [
    "이 실습에서는 랜덤 포레스트와 비슷한 결과가 나타나지만, 이 예제는 특성이 많지 않아 두 모델의 차이가 크지 않음. 보통 엑스트라 트리가 무작위성이 좀 더 크기 때문에 랜덤 포레스트보다 더 많은 결정 트리를 훈련해야함. 하지만 랜덤하게 노드를 분할하기 때문에 빠른 계산 속도가 엑스트라 트리의 장점임."
   ]
  },
  {
   "cell_type": "code",
   "execution_count": 18,
   "id": "6d4dd154",
   "metadata": {},
   "outputs": [
    {
     "name": "stdout",
     "output_type": "stream",
     "text": [
      "[0.20183568 0.52242907 0.27573525]\n"
     ]
    }
   ],
   "source": [
    "et.fit(train_input, train_target)\n",
    "print(et.feature_importances_)"
   ]
  },
  {
   "cell_type": "markdown",
   "id": "d1aacf54",
   "metadata": {},
   "source": [
    "# Gradient Boosting"
   ]
  },
  {
   "cell_type": "markdown",
   "id": "5a64bc63",
   "metadata": {},
   "source": [
    "default는 depth가 3인 decision tree를 100개 사용함. 과대적합에 강하고 일반적으로 높은 일반화 성능을 기대할 수 있음.\n",
    "\n",
    "경사하강법을 사용하여 트리를 앙상블에 추가함. 분류에서는 로지스틱 손실 함수를 사용하고 회귀에서는 평균 제곱 오차 함수를 사용함."
   ]
  },
  {
   "cell_type": "code",
   "execution_count": 19,
   "id": "c52b393c",
   "metadata": {},
   "outputs": [
    {
     "name": "stdout",
     "output_type": "stream",
     "text": [
      "0.8881086892152563 0.8720430147331015\n"
     ]
    }
   ],
   "source": [
    "from sklearn.ensemble import GradientBoostingClassifier\n",
    "\n",
    "gb = GradientBoostingClassifier(random_state=42)\n",
    "scores = cross_validate(gb, train_input, train_target, return_train_score = True, n_jobs=-1)\n",
    "print(np.mean(scores['train_score']), np.mean(scores['test_score']))"
   ]
  },
  {
   "cell_type": "code",
   "execution_count": 21,
   "id": "7d1951d9",
   "metadata": {},
   "outputs": [
    {
     "name": "stdout",
     "output_type": "stream",
     "text": [
      "0.9464595437171814 0.8780082549788999\n"
     ]
    }
   ],
   "source": [
    "gb = GradientBoostingClassifier(n_estimators = 500, learning_rate = 0.2, random_state = 42)\n",
    "scores = cross_validate(gb, train_input, train_target, return_train_score=True, n_jobs=-1)\n",
    "print(np.mean(scores['train_score']), np.mean(scores['test_score']))"
   ]
  },
  {
   "cell_type": "code",
   "execution_count": 22,
   "id": "9e3bc641",
   "metadata": {},
   "outputs": [
    {
     "name": "stdout",
     "output_type": "stream",
     "text": [
      "[0.15853457 0.68010884 0.1613566 ]\n"
     ]
    }
   ],
   "source": [
    "gb.fit(train_input, train_target)\n",
    "print(gb.feature_importances_)"
   ]
  },
  {
   "cell_type": "markdown",
   "id": "e961ad29",
   "metadata": {},
   "source": [
    "# Histogram-based Gradient Boosting"
   ]
  },
  {
   "cell_type": "markdown",
   "id": "bdc0bc23",
   "metadata": {},
   "source": [
    "입력 특성을 256개 구간으로 나눔. 따라서 노드를 분할할 때 최적의 분할을 매우 빠르게 찾을 수 있음. 히스토그램 기반 그레이디언트 부스팅은 256개의 구간 중에서 하나를 떼어 놓고 누락된 값을 위해서 사용함. 따라서 입력에 누락된 특성이 있더라도 이를 따로 전처리할 필요가 없음."
   ]
  },
  {
   "cell_type": "code",
   "execution_count": 26,
   "id": "7293e878",
   "metadata": {},
   "outputs": [
    {
     "name": "stdout",
     "output_type": "stream",
     "text": [
      "0.9321723946453317 0.8801241948619236\n"
     ]
    }
   ],
   "source": [
    "from sklearn.experimental import enable_hist_gradient_boosting\n",
    "from sklearn.ensemble import HistGradientBoostingClassifier\n",
    "\n",
    "hgb = HistGradientBoostingClassifier(random_state=42)\n",
    "scores = cross_validate(hgb, train_input, train_target, return_train_score = True)\n",
    "print(np.mean(scores['train_score']), np.mean(scores['test_score']))"
   ]
  },
  {
   "cell_type": "code",
   "execution_count": 27,
   "id": "8936f576",
   "metadata": {},
   "outputs": [
    {
     "name": "stdout",
     "output_type": "stream",
     "text": [
      "[0.08876275 0.23438522 0.08027708]\n"
     ]
    }
   ],
   "source": [
    "# Histogram-based Gradient Boositng -> 특성 중요도 계산: permutation_importance()\n",
    "# n_repeats: 랜덤하게 섞을 횟수 지정 (Default: 5)\n",
    "from sklearn.inspection import permutation_importance\n",
    "\n",
    "hgb.fit(train_input, train_target)\n",
    "result = permutation_importance(hgb, train_input, train_target, n_repeats = 10, random_state = 42, n_jobs = -1)\n",
    "print(result.importances_mean)"
   ]
  },
  {
   "cell_type": "code",
   "execution_count": 29,
   "id": "3d057cba",
   "metadata": {},
   "outputs": [
    {
     "name": "stdout",
     "output_type": "stream",
     "text": [
      "[0.05969231 0.20238462 0.049     ]\n"
     ]
    }
   ],
   "source": [
    "result = permutation_importance(hgb, test_input, test_target, n_repeats = 10, random_state = 42, n_jobs = -1)\n",
    "print(result.importances_mean)"
   ]
  },
  {
   "cell_type": "code",
   "execution_count": 30,
   "id": "de1be9cc",
   "metadata": {},
   "outputs": [
    {
     "data": {
      "text/plain": [
       "0.8723076923076923"
      ]
     },
     "execution_count": 30,
     "metadata": {},
     "output_type": "execute_result"
    }
   ],
   "source": [
    "hgb.score(test_input, test_target)"
   ]
  },
  {
   "cell_type": "code",
   "execution_count": 32,
   "id": "318b7e7c",
   "metadata": {},
   "outputs": [
    {
     "name": "stdout",
     "output_type": "stream",
     "text": [
      "Collecting xgboostNote: you may need to restart the kernel to use updated packages.\n",
      "\n",
      "  Downloading xgboost-1.7.3-py3-none-win_amd64.whl (89.1 MB)\n",
      "     --------------------------------------- 89.1/89.1 MB 17.2 MB/s eta 0:00:00\n",
      "Requirement already satisfied: numpy in c:\\users\\leesoohwan\\anaconda3\\envs\\py38\\lib\\site-packages (from xgboost) (1.23.5)\n",
      "Requirement already satisfied: scipy in c:\\users\\leesoohwan\\anaconda3\\envs\\py38\\lib\\site-packages (from xgboost) (1.9.2)\n",
      "Installing collected packages: xgboost\n",
      "Successfully installed xgboost-1.7.3\n"
     ]
    }
   ],
   "source": [
    "pip install xgboost"
   ]
  },
  {
   "cell_type": "code",
   "execution_count": 33,
   "id": "db60ed32",
   "metadata": {},
   "outputs": [
    {
     "name": "stdout",
     "output_type": "stream",
     "text": [
      "0.9555033709953124 0.8799326275264677\n"
     ]
    }
   ],
   "source": [
    "# sklearn 외에 그레이디언트 부스팅 알고리즘을 구현한 라이브러리 예제\n",
    "from xgboost import XGBClassifier\n",
    "\n",
    "xgb = XGBClassifier(tree_method = 'hist', random_state = 42)\n",
    "scores = cross_validate(xgb, train_input, train_target, return_train_score = True)\n",
    "print(np.mean(scores['train_score']), np.mean(scores['test_score']))"
   ]
  },
  {
   "cell_type": "code",
   "execution_count": 35,
   "id": "1ba89af2",
   "metadata": {},
   "outputs": [
    {
     "name": "stdout",
     "output_type": "stream",
     "text": [
      "Collecting lightgbm\n",
      "  Downloading lightgbm-3.3.5-py3-none-win_amd64.whl (1.0 MB)\n",
      "     ---------------------------------------- 1.0/1.0 MB 9.3 MB/s eta 0:00:00\n",
      "Requirement already satisfied: wheel in c:\\users\\leesoohwan\\anaconda3\\envs\\py38\\lib\\site-packages (from lightgbm) (0.37.1)\n",
      "Requirement already satisfied: numpy in c:\\users\\leesoohwan\\anaconda3\\envs\\py38\\lib\\site-packages (from lightgbm) (1.23.5)\n",
      "Requirement already satisfied: scipy in c:\\users\\leesoohwan\\anaconda3\\envs\\py38\\lib\\site-packages (from lightgbm) (1.9.2)\n",
      "Requirement already satisfied: scikit-learn!=0.22.0 in c:\\users\\leesoohwan\\anaconda3\\envs\\py38\\lib\\site-packages (from lightgbm) (1.1.2)\n",
      "Requirement already satisfied: joblib>=1.0.0 in c:\\users\\leesoohwan\\anaconda3\\envs\\py38\\lib\\site-packages (from scikit-learn!=0.22.0->lightgbm) (1.2.0)\n",
      "Requirement already satisfied: threadpoolctl>=2.0.0 in c:\\users\\leesoohwan\\anaconda3\\envs\\py38\\lib\\site-packages (from scikit-learn!=0.22.0->lightgbm) (3.1.0)\n",
      "Installing collected packages: lightgbm\n",
      "Successfully installed lightgbm-3.3.5\n",
      "Note: you may need to restart the kernel to use updated packages.\n"
     ]
    }
   ],
   "source": [
    "pip install lightgbm"
   ]
  },
  {
   "cell_type": "code",
   "execution_count": 37,
   "id": "6faf83d0",
   "metadata": {},
   "outputs": [
    {
     "name": "stdout",
     "output_type": "stream",
     "text": [
      "0.935828414851749 0.8801251203079884\n"
     ]
    }
   ],
   "source": [
    "# sklearn 외에 그레이디언트 부스팅 알고리즘을 구현한 라이브러리 예제\n",
    "from lightgbm import LGBMClassifier\n",
    "\n",
    "lgb = LGBMClassifier(random_state = 42)\n",
    "scores = cross_validate(lgb, train_input, train_target, return_train_score = True, n_jobs = -1)\n",
    "print(np.mean(scores['train_score']), np.mean(scores['test_score']))"
   ]
  },
  {
   "cell_type": "code",
   "execution_count": null,
   "id": "0d3162d6",
   "metadata": {},
   "outputs": [],
   "source": []
  }
 ],
 "metadata": {
  "kernelspec": {
   "display_name": "Python 3 (ipykernel)",
   "language": "python",
   "name": "python3"
  },
  "language_info": {
   "codemirror_mode": {
    "name": "ipython",
    "version": 3
   },
   "file_extension": ".py",
   "mimetype": "text/x-python",
   "name": "python",
   "nbconvert_exporter": "python",
   "pygments_lexer": "ipython3",
   "version": "3.8.13"
  }
 },
 "nbformat": 4,
 "nbformat_minor": 5
}
